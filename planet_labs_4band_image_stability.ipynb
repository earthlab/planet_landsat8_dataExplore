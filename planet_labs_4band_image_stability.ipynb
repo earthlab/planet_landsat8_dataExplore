{
 "cells": [
  {
   "cell_type": "code",
   "execution_count": 1,
   "metadata": {
    "collapsed": true
   },
   "outputs": [],
   "source": [
    "import os, sys\n",
    "import rasterio\n",
    "from rasterio.mask import mask\n",
    "import numpy as np\n",
    "from matplotlib import pyplot as plt\n",
    "import glob\n",
    "from xml.dom import minidom\n",
    "import fiona\n",
    "import scipy.misc as misc\n",
    "\n",
    "%matplotlib inline"
   ]
  },
  {
   "cell_type": "code",
   "execution_count": 2,
   "metadata": {
    "collapsed": false
   },
   "outputs": [],
   "source": [
    "# function to return collection dates from Planet MultiSpectral image metadata\n",
    "def getDates_planet(xml_file):\n",
    "\n",
    "    xmldoc = minidom.parse(xml_file)\n",
    "    date_node = xmldoc.getElementsByTagName(\"eop:acquisitionDate\")\n",
    "    date_str = str(date_node[0].firstChild.nodeValue)\n",
    "    acq_date_yyyymmdd = date_str.split('T')[0]        \n",
    "    \n",
    "    return acq_date_yyyymmdd\n",
    "\n",
    "# function to return correction coefficients from Planet MultiSpectral image metadata\n",
    "def getCorrCoefs_planet(xml_file):\n",
    "\n",
    "    xmldoc = minidom.parse(xml_file)\n",
    "    nodes = xmldoc.getElementsByTagName(\"ps:bandSpecificMetadata\")\n",
    "\n",
    "    # XML parser refers to bands by numbers 1-4\n",
    "    coeffs = {}\n",
    "    for node in nodes:\n",
    "        bn = node.getElementsByTagName(\"ps:bandNumber\")[0].firstChild.data\n",
    "        if bn in ['1', '2', '3', '4']:\n",
    "            i = int(bn)\n",
    "            value = node.getElementsByTagName(\"ps:reflectanceCoefficient\")[0].firstChild.data\n",
    "            coeffs[i] = float(value)\n",
    "            \n",
    "    return coeffs\n",
    "\n",
    "# function to extract image patch\n",
    "def getImagePatch_planet(imfile, poly):\n",
    "    \n",
    "    try:\n",
    "        with rasterio.open(imfile, 'r') as src:\n",
    "            arr,_ = mask(src, [poly], crop=True)\n",
    "\n",
    "        if arr.sum() != 0.:\n",
    "            return arr\n",
    "        else:\n",
    "            return 0\n",
    "        \n",
    "    except:\n",
    "        return 0\n",
    "\n",
    "# function return geometries as geoJSON\n",
    "def getGeometries_planet(shpfile):\n",
    "    \n",
    "    with fiona.open(shpfile, \"r\") as shapefile:\n",
    "        geoms = [feature[\"geometry\"] for feature in shapefile]\n",
    "        \n",
    "    return geoms\n"
   ]
  },
  {
   "cell_type": "code",
   "execution_count": 3,
   "metadata": {
    "collapsed": false
   },
   "outputs": [],
   "source": [
    "home_dir = r\"C:\\Projects\\RD\\planet\\sample_order\"\n",
    "\n",
    "all_ims = glob.glob('{}/*/*.tif'.format(home_dir))\n",
    "all_ms_ims = [im for im in all_ims if \"MS.tif\" in im]\n",
    "all_sr_ims = [im for im in all_ims if \"SR\" in im]\n",
    "all_qa = [im for im in all_ims if \"DN_UDM\" in im]\n",
    "all_xml = glob.glob('{}/*/*.xml'.format(home_dir))"
   ]
  },
  {
   "cell_type": "code",
   "execution_count": 4,
   "metadata": {
    "collapsed": false
   },
   "outputs": [
    {
     "name": "stdout",
     "output_type": "stream",
     "text": [
      "3.65983413866e-05\n",
      "{1: 2.06269037087e-05, 2: 2.18185183654e-05, 3: 2.42676815975e-05, 4: 3.65983413866e-05}\n"
     ]
    }
   ],
   "source": [
    "c = getCorrCoefs_planet(all_xml[0])\n",
    "print(c[4])\n",
    "print(c)\n"
   ]
  },
  {
   "cell_type": "code",
   "execution_count": 5,
   "metadata": {
    "collapsed": false
   },
   "outputs": [],
   "source": [
    "shp = r\"C:\\Projects\\rd\\planet\\proj_cc_sites.shp\"\n",
    "polys = getGeometries_planet(shp)"
   ]
  },
  {
   "cell_type": "code",
   "execution_count": 6,
   "metadata": {
    "collapsed": false
   },
   "outputs": [],
   "source": [
    "ms_patches = [getImagePatch_planet(im, polys[0]) for im in all_ms_ims]\n",
    "sr_patches = [getImagePatch_planet(im, polys[0]) for im in all_ms_ims]\n",
    "qa_patches = [getImagePatch_planet(im, polys[0]) for im in all_ms_ims]\n",
    "coeffs = [getCorrCoefs_planet(xml) for xml in all_xml]\n",
    "dates = [getDates_planet(xml) for xml in all_xml]"
   ]
  },
  {
   "cell_type": "code",
   "execution_count": 9,
   "metadata": {
    "collapsed": false
   },
   "outputs": [],
   "source": [
    "#a = [i for i,j in enumerate(samp) if type(j) is not np.ma.core.MaskedArray]"
   ]
  },
  {
   "cell_type": "code",
   "execution_count": 10,
   "metadata": {
    "collapsed": false
   },
   "outputs": [
    {
     "ename": "IndexError",
     "evalue": "list index out of range",
     "output_type": "error",
     "traceback": [
      "\u001b[1;31m---------------------------------------------------------------------------\u001b[0m",
      "\u001b[1;31mIndexError\u001b[0m                                Traceback (most recent call last)",
      "\u001b[1;32m<ipython-input-10-926d4ab66813>\u001b[0m in \u001b[0;36m<module>\u001b[1;34m()\u001b[0m\n\u001b[0;32m      8\u001b[0m \u001b[0msr_temp\u001b[0m \u001b[1;33m=\u001b[0m \u001b[1;33m[\u001b[0m\u001b[0mnp\u001b[0m\u001b[1;33m.\u001b[0m\u001b[0mma\u001b[0m\u001b[1;33m.\u001b[0m\u001b[0mmasked_equal\u001b[0m\u001b[1;33m(\u001b[0m\u001b[0marr\u001b[0m\u001b[1;33m,\u001b[0m \u001b[1;36m0.0\u001b[0m\u001b[1;33m)\u001b[0m \u001b[1;32mfor\u001b[0m \u001b[0marr\u001b[0m \u001b[1;32min\u001b[0m \u001b[0msr_patches\u001b[0m \u001b[1;32mif\u001b[0m \u001b[0mtype\u001b[0m\u001b[1;33m(\u001b[0m\u001b[0marr\u001b[0m\u001b[1;33m)\u001b[0m \u001b[1;32mis\u001b[0m \u001b[0mnp\u001b[0m\u001b[1;33m.\u001b[0m\u001b[0mma\u001b[0m\u001b[1;33m.\u001b[0m\u001b[0mcore\u001b[0m\u001b[1;33m.\u001b[0m\u001b[0mMaskedArray\u001b[0m\u001b[1;33m]\u001b[0m\u001b[1;33m\u001b[0m\u001b[0m\n\u001b[0;32m      9\u001b[0m \u001b[0msr_means\u001b[0m \u001b[1;33m=\u001b[0m \u001b[1;33m[\u001b[0m\u001b[0marr\u001b[0m\u001b[1;33m.\u001b[0m\u001b[0mmean\u001b[0m\u001b[1;33m(\u001b[0m\u001b[0maxis\u001b[0m\u001b[1;33m=\u001b[0m\u001b[1;36m1\u001b[0m\u001b[1;33m)\u001b[0m\u001b[1;33m.\u001b[0m\u001b[0mmean\u001b[0m\u001b[1;33m(\u001b[0m\u001b[0maxis\u001b[0m\u001b[1;33m=\u001b[0m\u001b[1;36m1\u001b[0m\u001b[1;33m)\u001b[0m \u001b[1;32mfor\u001b[0m \u001b[0marr\u001b[0m \u001b[1;32min\u001b[0m \u001b[0msr_temp\u001b[0m\u001b[1;33m]\u001b[0m\u001b[1;33m\u001b[0m\u001b[0m\n\u001b[1;32m---> 10\u001b[1;33m \u001b[0mms_means\u001b[0m\u001b[1;33m[\u001b[0m\u001b[1;36m0\u001b[0m\u001b[1;33m]\u001b[0m\u001b[1;33m.\u001b[0m\u001b[0mshape\u001b[0m\u001b[1;33m\u001b[0m\u001b[0m\n\u001b[0m\u001b[0;32m     11\u001b[0m \u001b[1;33m\u001b[0m\u001b[0m\n\u001b[0;32m     12\u001b[0m \u001b[1;31m## this code does not take into account the 0 values\u001b[0m\u001b[1;33m\u001b[0m\u001b[1;33m\u001b[0m\u001b[0m\n",
      "\u001b[1;31mIndexError\u001b[0m: list index out of range"
     ]
    }
   ],
   "source": [
    "# extract the mean values per band. however, we may be getting nodata (0) pixels influencing the mean.\n",
    "# may need to break this out into separate steps\n",
    "xml_inds = [i for i,j in enumerate(ms_patches) if type(j) is np.ma.core.MaskedArray]\n",
    "\n",
    "ms_temp = [np.ma.masked_equal(arr, 0.0) for arr in ms_patches if type(arr) is np.ma.core.MaskedArray]\n",
    "ms_means = [arr.mean(axis=1).mean(axis=1) for arr in ms_temp]\n",
    "\n",
    "sr_temp = [np.ma.masked_equal(arr, 0.0) for arr in sr_patches if type(arr) is np.ma.core.MaskedArray]\n",
    "sr_means = [arr.mean(axis=1).mean(axis=1) for arr in sr_temp]\n",
    "ms_means[0].shape\n",
    "\n",
    "## this code does not take into account the 0 values\n",
    "# ms_means = [arr.mean(axis=1).mean(axis=1) for arr in ms_patches if type(arr) is np.ma.core.MaskedArray]\n",
    "# sr_means = [arr.mean(axis=1).mean(axis=1) for arr in sr_patches if type(arr) is np.ma.core.MaskedArray]\n",
    "# ms_means[0].shape"
   ]
  },
  {
   "cell_type": "code",
   "execution_count": 11,
   "metadata": {
    "collapsed": false
   },
   "outputs": [],
   "source": [
    "# extract the band means per patch\n",
    "ms_band1_means = [b[0] for b in ms_means]\n",
    "ms_band2_means = [b[1] for b in ms_means]\n",
    "ms_band3_means = [b[2] for b in ms_means]\n",
    "ms_band4_means = [b[3] for b in ms_means]\n",
    "\n",
    "sr_scale = 10000\n",
    "sr_band1_means = [b[0]/sr_scale for b in sr_means]\n",
    "sr_band2_means = [b[1]/sr_scale for b in sr_means]\n",
    "sr_band3_means = [b[2]/sr_scale for b in sr_means]\n",
    "sr_band4_means = [b[3]/sr_scale for b in sr_means]"
   ]
  },
  {
   "cell_type": "code",
   "execution_count": 12,
   "metadata": {
    "collapsed": false
   },
   "outputs": [
    {
     "ename": "IndexError",
     "evalue": "list index out of range",
     "output_type": "error",
     "traceback": [
      "\u001b[1;31m---------------------------------------------------------------------------\u001b[0m",
      "\u001b[1;31mIndexError\u001b[0m                                Traceback (most recent call last)",
      "\u001b[1;32m<ipython-input-12-37e29586b9cb>\u001b[0m in \u001b[0;36m<module>\u001b[1;34m()\u001b[0m\n\u001b[0;32m      7\u001b[0m     \u001b[0mcf_arr\u001b[0m\u001b[1;33m.\u001b[0m\u001b[0mappend\u001b[0m\u001b[1;33m(\u001b[0m\u001b[0mnp\u001b[0m\u001b[1;33m.\u001b[0m\u001b[0marray\u001b[0m\u001b[1;33m(\u001b[0m\u001b[1;33m[\u001b[0m\u001b[0mcoeffs\u001b[0m\u001b[1;33m[\u001b[0m\u001b[0mi\u001b[0m\u001b[1;33m]\u001b[0m\u001b[1;33m[\u001b[0m\u001b[1;36m1\u001b[0m\u001b[1;33m]\u001b[0m\u001b[1;33m,\u001b[0m \u001b[0mcoeffs\u001b[0m\u001b[1;33m[\u001b[0m\u001b[0mi\u001b[0m\u001b[1;33m]\u001b[0m\u001b[1;33m[\u001b[0m\u001b[1;36m2\u001b[0m\u001b[1;33m]\u001b[0m\u001b[1;33m,\u001b[0m \u001b[0mcoeffs\u001b[0m\u001b[1;33m[\u001b[0m\u001b[0mi\u001b[0m\u001b[1;33m]\u001b[0m\u001b[1;33m[\u001b[0m\u001b[1;36m3\u001b[0m\u001b[1;33m]\u001b[0m\u001b[1;33m,\u001b[0m \u001b[0mcoeffs\u001b[0m\u001b[1;33m[\u001b[0m\u001b[0mi\u001b[0m\u001b[1;33m]\u001b[0m\u001b[1;33m[\u001b[0m\u001b[1;36m4\u001b[0m\u001b[1;33m]\u001b[0m\u001b[1;33m]\u001b[0m\u001b[1;33m)\u001b[0m\u001b[1;33m)\u001b[0m\u001b[1;33m\u001b[0m\u001b[0m\n\u001b[0;32m      8\u001b[0m \u001b[1;33m\u001b[0m\u001b[0m\n\u001b[1;32m----> 9\u001b[1;33m \u001b[0mcf_arr\u001b[0m\u001b[1;33m[\u001b[0m\u001b[1;36m0\u001b[0m\u001b[1;33m]\u001b[0m\u001b[1;33m\u001b[0m\u001b[0m\n\u001b[0m",
      "\u001b[1;31mIndexError\u001b[0m: list index out of range"
     ]
    }
   ],
   "source": [
    "# put the dates in a usable list corresponding to only overlapping images\n",
    "date_arr = [dates[i] for i in xml_inds]\n",
    "\n",
    "# put the correction coefficients into a usable list corresponding to only overlapping images\n",
    "cf_arr=[]\n",
    "for i in xml_inds:\n",
    "    cf_arr.append(np.array([coeffs[i][1], coeffs[i][2], coeffs[i][3], coeffs[i][4]]))\n",
    "    \n",
    "cf_arr[0]"
   ]
  },
  {
   "cell_type": "code",
   "execution_count": null,
   "metadata": {
    "collapsed": false
   },
   "outputs": [],
   "source": [
    "# check the calculation\n",
    "ms_band1_means[0] *cf_arr[0][0]"
   ]
  },
  {
   "cell_type": "code",
   "execution_count": null,
   "metadata": {
    "collapsed": false
   },
   "outputs": [],
   "source": [
    "# correct the ms images to TOA reflectance\n",
    "ms_band1_means_cor = [cf[0] * mn for cf,mn in zip(cf_arr, ms_band1_means)]\n",
    "ms_band2_means_cor = [cf[1] * mn for cf,mn in zip(cf_arr, ms_band2_means)]\n",
    "ms_band3_means_cor = [cf[2] * mn for cf,mn in zip(cf_arr, ms_band3_means)]\n",
    "ms_band4_means_cor = [cf[3] * mn for cf,mn in zip(cf_arr, ms_band4_means)]"
   ]
  },
  {
   "cell_type": "code",
   "execution_count": null,
   "metadata": {
    "collapsed": false
   },
   "outputs": [],
   "source": [
    "# plot the signature (incorporate the date list)\n",
    "plt.figure(figsize=(30,10))\n",
    "plt.subplot(1,2,1)\n",
    "plt.plot(ms_band1_means_cor)\n",
    "plt.title('corrected MS image')\n",
    "plt.subplot(1,2,2)\n",
    "plt.plot(sr_band1_means)\n",
    "plt.title('SR image scaled by {}'.format(sr_scale))"
   ]
  },
  {
   "cell_type": "code",
   "execution_count": null,
   "metadata": {
    "collapsed": false
   },
   "outputs": [],
   "source": [
    "np.where(np.array(ms_band1_means)==0.0)"
   ]
  },
  {
   "cell_type": "code",
   "execution_count": null,
   "metadata": {
    "collapsed": false
   },
   "outputs": [],
   "source": []
  },
  {
   "cell_type": "code",
   "execution_count": null,
   "metadata": {
    "collapsed": false
   },
   "outputs": [],
   "source": [
    "plt.imshow(misc.bytescale(np.rollaxis(ms_patches[-6][0:3, :, :],0,3)))"
   ]
  },
  {
   "cell_type": "code",
   "execution_count": null,
   "metadata": {
    "collapsed": false
   },
   "outputs": [],
   "source": [
    "## ones that are all zeros are no data areas!!!\n"
   ]
  },
  {
   "cell_type": "code",
   "execution_count": null,
   "metadata": {
    "collapsed": false
   },
   "outputs": [],
   "source": [
    "c = [ms_patches[i] for i in xml_inds]"
   ]
  },
  {
   "cell_type": "code",
   "execution_count": null,
   "metadata": {
    "collapsed": false
   },
   "outputs": [],
   "source": [
    "print(len(c))\n",
    "print(len(ms_patches))"
   ]
  },
  {
   "cell_type": "code",
   "execution_count": null,
   "metadata": {
    "collapsed": false
   },
   "outputs": [],
   "source": [
    "date_arr"
   ]
  },
  {
   "cell_type": "code",
   "execution_count": null,
   "metadata": {
    "collapsed": false
   },
   "outputs": [],
   "source": [
    "len(all_sr_ims)"
   ]
  },
  {
   "cell_type": "code",
   "execution_count": null,
   "metadata": {
    "collapsed": false
   },
   "outputs": [],
   "source": [
    "len(all_ms_ims)"
   ]
  },
  {
   "cell_type": "code",
   "execution_count": null,
   "metadata": {
    "collapsed": false
   },
   "outputs": [],
   "source": [
    "len(all_xml)"
   ]
  },
  {
   "cell_type": "code",
   "execution_count": null,
   "metadata": {
    "collapsed": false
   },
   "outputs": [],
   "source": [
    "print(all_xml_temp[0])\n",
    "print(all_sr_ims[0])"
   ]
  },
  {
   "cell_type": "code",
   "execution_count": null,
   "metadata": {
    "collapsed": false
   },
   "outputs": [],
   "source": [
    "all_xml_temp = [s.replace('MS_SR.tif', 'MS_metadata.xml') for s in all_sr_ims]"
   ]
  },
  {
   "cell_type": "code",
   "execution_count": null,
   "metadata": {
    "collapsed": false
   },
   "outputs": [],
   "source": [
    "len(all_xml_temp)"
   ]
  },
  {
   "cell_type": "code",
   "execution_count": null,
   "metadata": {
    "collapsed": true
   },
   "outputs": [],
   "source": []
  }
 ],
 "metadata": {
  "kernelspec": {
   "display_name": "Python [joemcg_rootclone]",
   "language": "python",
   "name": "Python [joemcg_rootclone]"
  },
  "language_info": {
   "codemirror_mode": {
    "name": "ipython",
    "version": 2
   },
   "file_extension": ".py",
   "mimetype": "text/x-python",
   "name": "python",
   "nbconvert_exporter": "python",
   "pygments_lexer": "ipython2",
   "version": "2.7.12"
  }
 },
 "nbformat": 4,
 "nbformat_minor": 0
}
